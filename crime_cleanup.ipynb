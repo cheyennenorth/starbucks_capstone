{
 "cells": [
  {
   "cell_type": "code",
   "execution_count": null,
   "id": "c386021c",
   "metadata": {},
   "outputs": [],
   "source": [
    "import pandas as pd\n",
    "import numpy as np\n",
    "from pandas_profiling import ProfileReport"
   ]
  },
  {
   "cell_type": "code",
   "execution_count": null,
   "id": "75827218",
   "metadata": {},
   "outputs": [],
   "source": [
    "crime = pd.read_csv('..\\data\\police_incidents.csv')\n",
    "len(crime)"
   ]
  },
  {
   "cell_type": "code",
   "execution_count": null,
   "id": "cfd1c51f",
   "metadata": {},
   "outputs": [],
   "source": [
    "crime = crime.dropna(subset=['zip_code'])\n",
    "print('length')\n",
    "print(len(crime))\n",
    "crime['zip_code'] = crime['zip_code'].astype(str)\n",
    "crime['zip_code'] = crime['zip_code'].str[:-2]\n",
    "crime['zip_code'] = crime['zip_code'].astype(int)\n",
    "crime_by_zip = crime.groupby(['zip_code'])['incident_number'].count()\n",
    "\n"
   ]
  },
  {
   "cell_type": "code",
   "execution_count": null,
   "id": "50aef618",
   "metadata": {},
   "outputs": [],
   "source": [
    "crime_by_zip.to_frame()\n",
    "zip_cdf = crime_by_zip.to_frame().reset_index()\n",
    "zip_cdf.rename(columns={'incident_number' : 'incident_count'})\n",
    "zip_cdf.info()\n",
    "#crime_by_zip.rename(columns={incident})"
   ]
  },
  {
   "cell_type": "code",
   "execution_count": null,
   "id": "f4d9d72e",
   "metadata": {},
   "outputs": [],
   "source": [
    "zip_cdf.to_csv('zip_crime.csv')"
   ]
  },
  {
   "cell_type": "code",
   "execution_count": null,
   "id": "4d899d61",
   "metadata": {},
   "outputs": [],
   "source": []
  }
 ],
 "metadata": {
  "kernelspec": {
   "display_name": "Python 3 (ipykernel)",
   "language": "python",
   "name": "python3"
  },
  "language_info": {
   "codemirror_mode": {
    "name": "ipython",
    "version": 3
   },
   "file_extension": ".py",
   "mimetype": "text/x-python",
   "name": "python",
   "nbconvert_exporter": "python",
   "pygments_lexer": "ipython3",
   "version": "3.9.13"
  }
 },
 "nbformat": 4,
 "nbformat_minor": 5
}
