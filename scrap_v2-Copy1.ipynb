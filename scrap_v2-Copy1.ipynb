{
 "cells": [
  {
   "cell_type": "code",
   "execution_count": null,
   "id": "6918e359",
   "metadata": {},
   "outputs": [],
   "source": [
    "from selenium import webdriver\n",
    "from selenium.webdriver.support.ui import WebDriverWait\n",
    "from selenium.webdriver.common.by import By\n",
    "from selenium.webdriver.chrome.options import Options\n",
    "from selenium.webdriver.chrome.service import Service\n",
    "from bs4 import BeautifulSoup\n",
    "import requests\n",
    "import re\n",
    "import time "
   ]
  },
  {
   "cell_type": "code",
   "execution_count": null,
   "id": "96b15e54",
   "metadata": {},
   "outputs": [],
   "source": [
    "#url for site\n",
    "url = \"https://www.starbucks.com/store-locator?map=36.15032,-86.735135,9z&place=Davidson%20County,%20TN,%20USA\"\n",
    "\n",
    "#defining location of chrome driver in files\n",
    "chrome_driver = \"C:\\Program Files (x86)\\chromedriver.exe\"\n",
    "\n",
    "#creating browser pop up \n",
    "browser = webdriver.Chrome(chrome_driver)\n",
    "#loading website in browser\n",
    "browser.get(url)\n",
    "time.sleep(3)\n",
    "#click agree button for cookies pop up\n",
    "click_agree = browser.find_element(By.CSS_SELECTOR, (\"#truste-consent-button\")).click();\n",
    "#sleep so page loads after agressing to cookies\n",
    "time.sleep(5)\n",
    "\n",
    "html = browser.page_source\n",
    "soup = BeautifulSoup(html, 'html.parser')\n",
    "print(soup.prettify())"
   ]
  },
  {
   "cell_type": "code",
   "execution_count": null,
   "id": "a8139101",
   "metadata": {},
   "outputs": [],
   "source": [
    "#checking soup works\n",
    "soup.find('title').text"
   ]
  },
  {
   "cell_type": "code",
   "execution_count": null,
   "id": "98ef0c0d",
   "metadata": {
    "scrolled": true
   },
   "outputs": [],
   "source": [
    "#find location names in soup\n",
    "info_loc = soup.findAll('h3', attrs = {'class' : 'sb-heading text-xxs text-bold'})\n",
    "info_loc\n",
    "#create list to store location names\n",
    "#loc_names = {}\n",
    "#looking in info_loc and pulling out location name and putting into list\n",
    "#for info in info_loc:\n",
    "   # loc_names = info.get_text()\n",
    "  #  print(loc_names)\n",
    "    "
   ]
  },
  {
   "cell_type": "code",
   "execution_count": null,
   "id": "76fb8db2",
   "metadata": {
    "scrolled": false
   },
   "outputs": [],
   "source": [
    "#create list to store location names\n",
    "loc_names = [loc.text for loc in info_loc]\n",
    "loc_names[0]"
   ]
  },
  {
   "cell_type": "code",
   "execution_count": null,
   "id": "426dcaa2",
   "metadata": {
    "scrolled": true
   },
   "outputs": [],
   "source": [
    "#loop results in nonetype\n",
    "\n",
    "#xpaths = []\n",
    "\n",
    "#for loc in loc_names:\n",
    "    #xpaths = print(f\"//a[@aria-label='Store details for {loc}']//*[name()='svg']\")"
   ]
  },
  {
   "cell_type": "code",
   "execution_count": null,
   "id": "346dfa5c",
   "metadata": {},
   "outputs": [],
   "source": [
    "#list comprehension \n",
    "xpaths = \", \".join([f\"//a[@aria-label='Store details for {loc}']//*[name()='svg']\" for loc in loc_names])\n",
    "xpaths"
   ]
  },
  {
   "cell_type": "code",
   "execution_count": null,
   "id": "1bb9187c",
   "metadata": {},
   "outputs": [],
   "source": [
    "xpaths_list = xpaths.split(\", \")\n",
    "type(xpaths_list)"
   ]
  },
  {
   "cell_type": "code",
   "execution_count": null,
   "id": "6748680a",
   "metadata": {},
   "outputs": [],
   "source": [
    "len(xpaths_list)"
   ]
  },
  {
   "cell_type": "code",
   "execution_count": null,
   "id": "e070929c",
   "metadata": {},
   "outputs": [],
   "source": [
    "#info = browser.find_element(By.XPATH, '//a[@aria-label=\"Store details for Nipper\\'s Corner\"]').click();\n",
    "#time.sleep(3)"
   ]
  },
  {
   "cell_type": "code",
   "execution_count": null,
   "id": "da9b4b66",
   "metadata": {},
   "outputs": [],
   "source": [
    "\n",
    "#current_page = browser.page_source\n",
    "#response = requests.get(url2)\n",
    "#soup2 = BeautifulSoup(current_page)\n",
    "#soup2"
   ]
  },
  {
   "cell_type": "code",
   "execution_count": null,
   "id": "9458dbaa",
   "metadata": {},
   "outputs": [],
   "source": [
    "#container = soup2.find('section', attrs = {'class' : 'pb5 px4 lg-px6'})\n",
    "#container"
   ]
  },
  {
   "cell_type": "code",
   "execution_count": null,
   "id": "9a97af47",
   "metadata": {},
   "outputs": [],
   "source": [
    "#for paths in xpaths_list:\n",
    "    #info_button = (f\"browser.find_element(By.XPATH, \\\"{paths}\\\")\")\n",
    "    #info_button.click()\n",
    "    #time.sleep(3)\n",
    "    #scrape page for html  \n",
    "    #names = find_element(By.CSS_SELECTOR, \"h1.sb-heading text-lg text-bold pr7 mb1\")"
   ]
  },
  {
   "cell_type": "code",
   "execution_count": null,
   "id": "5504d7a6",
   "metadata": {},
   "outputs": [],
   "source": [
    "#fancy override\n",
    "for index,paths in enumerate(xpaths_list):\n",
    "    if paths.find(\"Nipper\") != -1:\n",
    "        xpaths_list[index] = '//a[@aria-label=\"Store details for Nipper\\'s Corner\"]'"
   ]
  },
  {
   "cell_type": "code",
   "execution_count": null,
   "id": "1efa53fe",
   "metadata": {},
   "outputs": [],
   "source": [
    "#loc_name = []\n",
    "#address = []\n",
    "#zipcode = []\n",
    "big_soup = []\n",
    "\n",
    "for paths in xpaths_list:\n",
    "    try:\n",
    "        info_button = browser.find_element(By.XPATH, paths)\n",
    "        info_button.click();\n",
    "        time.sleep(7)\n",
    "        #get page source \n",
    "        current_page = browser.page_source\n",
    "        #get soup of page\n",
    "        soup2 = BeautifulSoup(current_page)\n",
    "        #find container in soup and place in list\n",
    "        container_soup = soup2.find('section', attrs = {'class' : 'pb5 px4 lg-px6'})\n",
    "        big_soup.append(container_soup)\n",
    "        time.sleep(7)\n",
    "        #click exit \n",
    "        click_exit = browser.find_element(By.XPATH, \"//button[@aria-label='Close']//*[name()='svg']\").click();\n",
    "        time.sleep(7)\n",
    "    except: \n",
    "        print(f'something went wrong at path {paths}') \n",
    "        continue\n",
    "    \n"
   ]
  },
  {
   "cell_type": "code",
   "execution_count": null,
   "id": "87673f6b",
   "metadata": {},
   "outputs": [],
   "source": [
    "big_soup"
   ]
  },
  {
   "cell_type": "code",
   "execution_count": null,
   "id": "4a8adc6a",
   "metadata": {},
   "outputs": [],
   "source": []
  }
 ],
 "metadata": {
  "kernelspec": {
   "display_name": "Python 3 (ipykernel)",
   "language": "python",
   "name": "python3"
  },
  "language_info": {
   "codemirror_mode": {
    "name": "ipython",
    "version": 3
   },
   "file_extension": ".py",
   "mimetype": "text/x-python",
   "name": "python",
   "nbconvert_exporter": "python",
   "pygments_lexer": "ipython3",
   "version": "3.9.13"
  }
 },
 "nbformat": 4,
 "nbformat_minor": 5
}
