{
 "cells": [
  {
   "cell_type": "code",
   "execution_count": null,
   "id": "88899218",
   "metadata": {},
   "outputs": [],
   "source": [
    "from shapely.geometry import Point\n",
    "import pandas as pd\n",
    "import geopandas as gpd\n",
    "import matplotlib.pyplot as plt\n",
    "import folium \n",
    "from folium.plugins import MarkerCluster\n",
    "from folium.plugins import FastMarkerCluster\n",
    "import json"
   ]
  },
  {
   "cell_type": "code",
   "execution_count": null,
   "id": "43828c18",
   "metadata": {},
   "outputs": [],
   "source": [
    "tiger_df = gpd.read_file('../data/tl_2021_47_tract.shp')\n",
    "tiger_df = tiger_df.to_crs(\"EPSG:4326\")"
   ]
  },
  {
   "cell_type": "code",
   "execution_count": null,
   "id": "b74d1c81",
   "metadata": {},
   "outputs": [],
   "source": [
    "type(tiger_df)"
   ]
  },
  {
   "cell_type": "code",
   "execution_count": null,
   "id": "7c689bc3",
   "metadata": {},
   "outputs": [],
   "source": [
    "davidson_loc = tiger_df.loc[(tiger_df.COUNTYFP == '037')]\n",
    "\n",
    "poverty = pd.read_csv('../data/census_pov.csv')"
   ]
  },
  {
   "cell_type": "code",
   "execution_count": null,
   "id": "0c09fe8b",
   "metadata": {},
   "outputs": [],
   "source": [
    "davidson_loc.head()"
   ]
  },
  {
   "cell_type": "code",
   "execution_count": null,
   "id": "a98700fe",
   "metadata": {
    "scrolled": true
   },
   "outputs": [],
   "source": [
    "poverty.head()"
   ]
  },
  {
   "cell_type": "code",
   "execution_count": null,
   "id": "6c2ddc65",
   "metadata": {},
   "outputs": [],
   "source": [
    "poverty['GEO_ID'].str.split('S')"
   ]
  },
  {
   "cell_type": "code",
   "execution_count": null,
   "id": "7514d46f",
   "metadata": {},
   "outputs": [],
   "source": [
    "poverty['GEO_ID'].str.split('S', expand = True)"
   ]
  },
  {
   "cell_type": "code",
   "execution_count": null,
   "id": "a403e041",
   "metadata": {
    "scrolled": true
   },
   "outputs": [],
   "source": [
    "pov = poverty['GEO_ID'].str.split('S', expand = True)\n",
    "poverty[['US_CODE', 'GEOID']] = pov\n",
    "\n",
    "poverty.head()"
   ]
  },
  {
   "cell_type": "code",
   "execution_count": null,
   "id": "b5f7e667",
   "metadata": {},
   "outputs": [],
   "source": [
    "print('davidson loc shape')\n",
    "print(davidson_loc.shape)\n",
    "print('===================')\n",
    "print('poverty shape')\n",
    "print(poverty.shape)\n"
   ]
  },
  {
   "cell_type": "code",
   "execution_count": null,
   "id": "f2a25cdf",
   "metadata": {},
   "outputs": [],
   "source": [
    "davidson_poverty = pd.merge(davidson_loc, poverty, on = \"GEOID\", how = \"inner\")"
   ]
  },
  {
   "cell_type": "code",
   "execution_count": null,
   "id": "31c2595f",
   "metadata": {},
   "outputs": [],
   "source": [
    "davidson_poverty = davidson_poverty.rename(columns={\"Total Population for whom poverty status os determined- Estimate\":\"population\"})\n",
    "davidson_poverty.dropna()"
   ]
  },
  {
   "cell_type": "code",
   "execution_count": null,
   "id": "53dcf64f",
   "metadata": {
    "scrolled": false
   },
   "outputs": [],
   "source": [
    "davidson_poverty.plot()"
   ]
  },
  {
   "cell_type": "code",
   "execution_count": null,
   "id": "a11ca758",
   "metadata": {},
   "outputs": [],
   "source": [
    "type(davidson_poverty)"
   ]
  },
  {
   "cell_type": "code",
   "execution_count": null,
   "id": "818e40ee",
   "metadata": {},
   "outputs": [],
   "source": [
    "fig, ax = plt.subplots(figsize=(20,10))\n",
    "davidson_poverty.plot(column = 'population', \n",
    "              cmap = 'GnBu', \n",
    "              edgecolor = 'black', \n",
    "              legend = True, \n",
    "              ax = ax)\n",
    "ax.axis('off');"
   ]
  },
  {
   "cell_type": "code",
   "execution_count": null,
   "id": "fd194bcc",
   "metadata": {},
   "outputs": [],
   "source": [
    "davidson_poverty.plot(column = 'population', \n",
    "cmap = 'GnBu', \n",
    "edgecolor = 'black', \n",
    "legend = True)"
   ]
  },
  {
   "cell_type": "code",
   "execution_count": null,
   "id": "9c4b433e",
   "metadata": {
    "scrolled": true
   },
   "outputs": [],
   "source": [
    "davidson_loc.info()"
   ]
  },
  {
   "cell_type": "code",
   "execution_count": null,
   "id": "5a9fb2f7",
   "metadata": {},
   "outputs": [],
   "source": [
    "davidson_poverty['population'].max()"
   ]
  },
  {
   "cell_type": "code",
   "execution_count": null,
   "id": "62f06fd4",
   "metadata": {},
   "outputs": [],
   "source": [
    "#Bring in crime data\n",
    "crime = pd.read_csv('./data/zip_crime.csv')\n",
    "#bring in zips\n",
    "zipcodes = gpd.read_file('./data/zipcodes.geojson')\n",
    "\n",
    "#bring in top and bottom zip info\n",
    "top_bottom = pd.read_csv('./data/zip_info.csv')"
   ]
  },
  {
   "cell_type": "code",
   "execution_count": null,
   "id": "a816ece4",
   "metadata": {},
   "outputs": [],
   "source": [
    "top_bottom.groupby('top_bottom')['store_count'].sum()"
   ]
  },
  {
   "cell_type": "code",
   "execution_count": null,
   "id": "aadf8553",
   "metadata": {},
   "outputs": [],
   "source": []
  },
  {
   "cell_type": "code",
   "execution_count": null,
   "id": "c88ec6cb",
   "metadata": {
    "scrolled": false
   },
   "outputs": [],
   "source": [
    "crime.rename(columns={'zip_code':'zip', 'incident_number':'incident_count'}, inplace=True)\n",
    "crime = crime[['zip', 'incident_count']]\n",
    "crime = crime.dropna()\n",
    "crime"
   ]
  },
  {
   "cell_type": "code",
   "execution_count": null,
   "id": "b970dc1f",
   "metadata": {
    "scrolled": true
   },
   "outputs": [],
   "source": [
    "zipcodes = zipcodes.dropna()\n",
    "zipcodes['zip'] = zipcodes['zip'].astype(int)\n",
    "zipcodes"
   ]
  },
  {
   "cell_type": "code",
   "execution_count": null,
   "id": "997c55c6",
   "metadata": {
    "scrolled": false
   },
   "outputs": [],
   "source": [
    "zip_crime = pd.merge(zipcodes, crime, on = \"zip\", how = \"inner\")\n",
    "zip_crime = zip_crime.dropna()\n",
    "print(type(zip_crime))\n",
    "zip_crime.shape"
   ]
  },
  {
   "cell_type": "code",
   "execution_count": null,
   "id": "8f3e5f01",
   "metadata": {
    "scrolled": true
   },
   "outputs": [],
   "source": [
    "category = []\n",
    "\n",
    "for index, row in zip_crime.iterrows():\n",
    "    if row.incident_count >= 36375:\n",
    "        category.append('High Crime')\n",
    "    elif row.incident_count < 36375 and row.incident_count > 18188:\n",
    "        category.append('Med Crime')\n",
    "    else:\n",
    "        category.append('Low Crime')\n",
    "        \n",
    "zip_crime['crime_level'] = category        \n",
    "zip_crime"
   ]
  },
  {
   "cell_type": "code",
   "execution_count": null,
   "id": "8d1f92b1",
   "metadata": {},
   "outputs": [],
   "source": [
    "zip_n_crime_only = zip_crime[['zip','crime_level', 'po_name']].copy()"
   ]
  },
  {
   "cell_type": "code",
   "execution_count": null,
   "id": "ce2365f0",
   "metadata": {},
   "outputs": [],
   "source": [
    "zip_n_crime_only = zip_n_crime_only.drop_duplicates(subset=['zip'])\n",
    "#zip_n_crime_only.to_csv('zip_n_crime_only.csv')"
   ]
  },
  {
   "cell_type": "code",
   "execution_count": null,
   "id": "38e1f40e",
   "metadata": {
    "scrolled": true
   },
   "outputs": [],
   "source": [
    "star_zips = pd.read_csv('./data/star_zips.csv')\n",
    "star_zips"
   ]
  },
  {
   "cell_type": "code",
   "execution_count": null,
   "id": "dac26cbd",
   "metadata": {
    "scrolled": true
   },
   "outputs": [],
   "source": [
    "star_crime = pd.merge(star_zips,zip_n_crime_only, left_on='zipcodes',right_on='zip')\n",
    "star_crime.to_csv('star_crime.csv')\n",
    "star_crime"
   ]
  },
  {
   "cell_type": "code",
   "execution_count": null,
   "id": "2f66c6d6",
   "metadata": {},
   "outputs": [],
   "source": [
    "star_crime.groupby('po_name')['location'].count()"
   ]
  },
  {
   "cell_type": "code",
   "execution_count": null,
   "id": "2a3463c4",
   "metadata": {
    "scrolled": true
   },
   "outputs": [],
   "source": [
    "star_crime.groupby('crime_level')['location'].count()"
   ]
  },
  {
   "cell_type": "code",
   "execution_count": null,
   "id": "92c29455",
   "metadata": {},
   "outputs": [],
   "source": [
    "by_zip = pd.DataFrame(star_crime.groupby('zipcodes')['location'].count())\n",
    "by_zip = by_zip.reset_index()\n",
    "by_zip.sort_values(by='location', ascending=False)"
   ]
  },
  {
   "cell_type": "code",
   "execution_count": null,
   "id": "3d59b86a",
   "metadata": {},
   "outputs": [],
   "source": [
    "#for markers\n",
    "starbucks = pd.read_csv('./data/starbucks_markers.csv')\n",
    "starbucks = starbucks.dropna()\n",
    "other_locs = pd.read_csv('./data/final_locs.csv')\n",
    "len(other_locs)\n"
   ]
  },
  {
   "cell_type": "code",
   "execution_count": null,
   "id": "38b3207a",
   "metadata": {},
   "outputs": [],
   "source": [
    "\n",
    "aunts_house = pd.read_csv('./data/Aunty_crib.csv')\n",
    "aunts_house"
   ]
  },
  {
   "cell_type": "code",
   "execution_count": null,
   "id": "743f5b85",
   "metadata": {
    "scrolled": false
   },
   "outputs": [],
   "source": [
    "m = folium.Map(location = [36.174465, -86.767960], zoom_start=10, control_scale=True)\n",
    "m"
   ]
  },
  {
   "cell_type": "code",
   "execution_count": null,
   "id": "088c42ff",
   "metadata": {
    "scrolled": false
   },
   "outputs": [],
   "source": [
    "geoJson=davidson_loc.to_crs(epsg=4326).to_json()\n",
    "\n",
    "folium.Choropleth(\n",
    "    geo_data =geoJson,                  #json\n",
    "    name ='choropleth',                  \n",
    "    data = davidson_poverty,                     \n",
    "    columns = ['TRACTCE', 'population'], #columns to work on\n",
    "    key_on ='feature.properties.TRACTCE',\n",
    "    fill_color ='YlOrBr',     #I passed colors Yellow,Green,Blue\n",
    "    fill_opacity = 0.7,\n",
    "    line_opacity = 0.2,\n",
    "    legend_name = \"Total Population Est\"\n",
    ").add_to(m)\n",
    "\n",
    "#testing \n",
    "for i in range(0,len(starbucks)):\n",
    "   folium.Marker(\n",
    "      location=[starbucks.iloc[i]['latitude'], starbucks.iloc[i]['longitude']],\n",
    "      popup=starbucks.iloc[i]['location'],\n",
    "   ).add_to(m)\n",
    "\n",
    "folium.LayerControl().add_to(m)\n",
    "m"
   ]
  },
  {
   "cell_type": "code",
   "execution_count": null,
   "id": "e51c045b",
   "metadata": {
    "scrolled": false
   },
   "outputs": [],
   "source": [
    "n = folium.Map(location = [36.174465, -86.767960], zoom_start=11, control_scale=True)\n",
    "\n",
    "folium.Choropleth(\n",
    "    geo_data =geoJson,                  #json\n",
    "    name ='choropleth',                  \n",
    "    data = davidson_poverty,                     \n",
    "    columns = ['TRACTCE', 'population'], #columns to work on\n",
    "    key_on ='feature.properties.TRACTCE',\n",
    "    fill_color ='YlOrBr',     #I passed colors Yellow,Green,Blue\n",
    "    fill_opacity = 0.7,\n",
    "    line_opacity = 0.2,\n",
    "    legend_name = \"Total Population Est\"\n",
    ").add_to(n)\n",
    "\n",
    "folium.Choropleth(\n",
    "    geo_data =zipcodes,                  #json\n",
    "    name ='choropleth',                  \n",
    "    data = zip_crime,                     \n",
    "    columns = ['zip', 'incident_count'], #columns to work on\n",
    "    key_on ='feature.properties.zip',\n",
    "    fill_color ='Reds',     #I passed colors Yellow,Green,Blue\n",
    "    fill_opacity = 0.7,\n",
    "    line_opacity = 0.2,\n",
    "    legend_name = \"Crime by incident count\"\n",
    ").add_to(n)\n",
    "\n",
    "for i, r in starbucks.iterrows():\n",
    "    loc = [r['latitude'],r['longitude']]\n",
    "    pop = str(r['location'])\n",
    "    icon=folium.Icon(color=\"green\",icon=\"fa-coffee\", prefix='fa')\n",
    "    \n",
    "    marker = folium.Marker(\n",
    "        location = loc, \n",
    "        popup = pop, icon = icon).add_to(n)\n",
    "\n",
    "for i, r in other_locs.iterrows():\n",
    "    loc = [r['lat'],r['lon']]\n",
    "    pop = str(r['location'])\n",
    "    icon=folium.Icon(color=\"green\",icon=\"fa-coffee\", prefix='fa')\n",
    "    \n",
    "    marker = folium.Marker(\n",
    "        location = loc, \n",
    "        popup = pop, icon = icon).add_to(n)   \n",
    "\n",
    "folium.Marker(location=[36.23314,-86.76915], popup = 'Aunts House',\n",
    "             icon=folium.Icon(color='blue', icon=\"fa-home\", prefix='fa')).add_to(n)\n",
    "folium.CircleMarker(location=(36.23314,-86.76915),radius=15, fill_color='green').add_to(n)\n",
    "    \n",
    "folium.LayerControl().add_to(n)\n",
    "#folium.GeoJson(data=zip_crime['geometry']).add_to(n)\n",
    "n"
   ]
  },
  {
   "cell_type": "code",
   "execution_count": null,
   "id": "5c30677a",
   "metadata": {},
   "outputs": [],
   "source": [
    "n.save(\"index.html\")"
   ]
  },
  {
   "cell_type": "code",
   "execution_count": null,
   "id": "d5041e98",
   "metadata": {},
   "outputs": [],
   "source": [
    "for _, r in davidson_poverty.iterrows():\n",
    "    # Without simplifying the representation of each borough,\n",
    "    # the map might not be displayed\n",
    "    dav_geo = gpd.GeoSeries(r['geometry']).simplify(tolerance=0.001)\n",
    "    geo_j = dav_geo.to_json()\n",
    "    geo_j = folium.GeoJson(data=geo_j,\n",
    "                           style_function=lambda x: {'fillColor': 'orange'})\n",
    "    geo_j.add_to(m)\n",
    "\n",
    "    \n",
    "m"
   ]
  },
  {
   "cell_type": "code",
   "execution_count": null,
   "id": "bb304109",
   "metadata": {},
   "outputs": [],
   "source": []
  }
 ],
 "metadata": {
  "kernelspec": {
   "display_name": "Python 3 (ipykernel)",
   "language": "python",
   "name": "python3"
  },
  "language_info": {
   "codemirror_mode": {
    "name": "ipython",
    "version": 3
   },
   "file_extension": ".py",
   "mimetype": "text/x-python",
   "name": "python",
   "nbconvert_exporter": "python",
   "pygments_lexer": "ipython3",
   "version": "3.9.13"
  }
 },
 "nbformat": 4,
 "nbformat_minor": 5
}
