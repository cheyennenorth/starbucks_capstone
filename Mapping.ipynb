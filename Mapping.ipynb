{
 "cells": [
  {
   "cell_type": "code",
   "execution_count": null,
   "id": "88899218",
   "metadata": {},
   "outputs": [],
   "source": [
    "from shapely.geometry import Point\n",
    "import pandas as pd\n",
    "import geopandas as gpd\n",
    "import matplotlib.pyplot as plt\n",
    "import folium \n",
    "from folium.plugins import MarkerCluster\n",
    "from folium.plugins import FastMarkerCluster\n",
    "import json"
   ]
  },
  {
   "cell_type": "code",
   "execution_count": null,
   "id": "43828c18",
   "metadata": {},
   "outputs": [],
   "source": [
    "tiger_df = gpd.read_file('../data/tl_2021_47_tract.shp')\n",
    "tiger_df = tiger_df.to_crs(\"EPSG:4326\")"
   ]
  },
  {
   "cell_type": "code",
   "execution_count": null,
   "id": "b74d1c81",
   "metadata": {},
   "outputs": [],
   "source": [
    "type(tiger_df)"
   ]
  },
  {
   "cell_type": "code",
   "execution_count": null,
   "id": "7c689bc3",
   "metadata": {},
   "outputs": [],
   "source": [
    "davidson_loc = tiger_df.loc[(tiger_df.COUNTYFP == '037')]\n",
    "\n",
    "poverty = pd.read_csv('../data/census_pov.csv')"
   ]
  },
  {
   "cell_type": "code",
   "execution_count": null,
   "id": "0c09fe8b",
   "metadata": {},
   "outputs": [],
   "source": [
    "davidson_loc.head()"
   ]
  },
  {
   "cell_type": "code",
   "execution_count": null,
   "id": "a98700fe",
   "metadata": {
    "scrolled": true
   },
   "outputs": [],
   "source": [
    "poverty.head()"
   ]
  },
  {
   "cell_type": "code",
   "execution_count": null,
   "id": "6c2ddc65",
   "metadata": {},
   "outputs": [],
   "source": [
    "poverty['GEO_ID'].str.split('S')"
   ]
  },
  {
   "cell_type": "code",
   "execution_count": null,
   "id": "7514d46f",
   "metadata": {},
   "outputs": [],
   "source": [
    "poverty['GEO_ID'].str.split('S', expand = True)"
   ]
  },
  {
   "cell_type": "code",
   "execution_count": null,
   "id": "a403e041",
   "metadata": {
    "scrolled": true
   },
   "outputs": [],
   "source": [
    "pov = poverty['GEO_ID'].str.split('S', expand = True)\n",
    "poverty[['US_CODE', 'GEOID']] = pov\n",
    "\n",
    "poverty.head()"
   ]
  },
  {
   "cell_type": "code",
   "execution_count": null,
   "id": "b5f7e667",
   "metadata": {},
   "outputs": [],
   "source": [
    "print('davidson loc shape')\n",
    "print(davidson_loc.shape)\n",
    "print('===================')\n",
    "print('poverty shape')\n",
    "print(poverty.shape)\n"
   ]
  },
  {
   "cell_type": "code",
   "execution_count": null,
   "id": "f2a25cdf",
   "metadata": {},
   "outputs": [],
   "source": [
    "davidson_poverty = pd.merge(davidson_loc, poverty, on = \"GEOID\", how = \"inner\")"
   ]
  },
  {
   "cell_type": "code",
   "execution_count": null,
   "id": "31c2595f",
   "metadata": {},
   "outputs": [],
   "source": [
    "davidson_poverty = davidson_poverty.rename(columns={\"Total Population for whom poverty status os determined- Estimate\":\"poverty_est\"})\n",
    "davidson_poverty.dropna()"
   ]
  },
  {
   "cell_type": "code",
   "execution_count": null,
   "id": "53dcf64f",
   "metadata": {
    "scrolled": false
   },
   "outputs": [],
   "source": [
    "davidson_poverty.plot()"
   ]
  },
  {
   "cell_type": "code",
   "execution_count": null,
   "id": "a11ca758",
   "metadata": {},
   "outputs": [],
   "source": [
    "type(davidson_poverty)"
   ]
  },
  {
   "cell_type": "code",
   "execution_count": null,
   "id": "818e40ee",
   "metadata": {},
   "outputs": [],
   "source": [
    "fig, ax = plt.subplots(figsize=(20,10))\n",
    "davidson_poverty.plot(column = 'poverty_est', \n",
    "              cmap = 'GnBu', \n",
    "              edgecolor = 'black', \n",
    "              legend = True, \n",
    "              ax = ax)\n",
    "ax.axis('off');"
   ]
  },
  {
   "cell_type": "code",
   "execution_count": null,
   "id": "fd194bcc",
   "metadata": {},
   "outputs": [],
   "source": [
    "davidson_poverty.plot(column = 'poverty_est', \n",
    "cmap = 'GnBu', \n",
    "edgecolor = 'black', \n",
    "legend = True)"
   ]
  },
  {
   "cell_type": "code",
   "execution_count": null,
   "id": "62f06fd4",
   "metadata": {},
   "outputs": [],
   "source": [
    "#Bring in crime data\n",
    "crime = pd.read_csv('../data/police_incidents.csv')\n",
    "crime.head()"
   ]
  },
  {
   "cell_type": "code",
   "execution_count": null,
   "id": "9959cea9",
   "metadata": {},
   "outputs": [],
   "source": [
    "#metro_crime = gpd.read_file('..\\data\\metro_crime.geojson')\n",
    "#metro_crime.head()"
   ]
  },
  {
   "cell_type": "code",
   "execution_count": null,
   "id": "9c4b433e",
   "metadata": {},
   "outputs": [],
   "source": [
    "davidson_loc.head()"
   ]
  },
  {
   "cell_type": "code",
   "execution_count": null,
   "id": "5a9fb2f7",
   "metadata": {},
   "outputs": [],
   "source": [
    "davidson_poverty['poverty_est'].max()"
   ]
  },
  {
   "cell_type": "code",
   "execution_count": null,
   "id": "743f5b85",
   "metadata": {
    "scrolled": true
   },
   "outputs": [],
   "source": [
    "m = folium.Map(location = [36.174465, -86.767960], zoom_start=10, control_scale=True)\n",
    "m"
   ]
  },
  {
   "cell_type": "code",
   "execution_count": null,
   "id": "088c42ff",
   "metadata": {},
   "outputs": [],
   "source": [
    "geoJson=davidson_loc.to_crs(epsg=4326).to_json()\n",
    "\n",
    "folium.Choropleth(\n",
    "    geo_data =geoJson,                  #json\n",
    "    name ='choropleth',                  \n",
    "    data = davidson_poverty,                     \n",
    "    columns = ['TRACTCE', 'poverty_est'], #columns to work on\n",
    "    key_on ='feature.properties.TRACTCE',\n",
    "    fill_color ='YlGnBu',     #I passed colors Yellow,Green,Blue\n",
    "    fill_opacity = 0.7,\n",
    "    line_opacity = 0.2,\n",
    "    legend_name = \"Total Population for whom poverty status is determined- Estimate\"\n",
    ").add_to(m)\n",
    "\n",
    "m"
   ]
  },
  {
   "cell_type": "code",
   "execution_count": null,
   "id": "d5041e98",
   "metadata": {},
   "outputs": [],
   "source": [
    "for _, r in davidson_poverty.iterrows():\n",
    "    # Without simplifying the representation of each borough,\n",
    "    # the map might not be displayed\n",
    "    dav_geo = gpd.GeoSeries(r['geometry']).simplify(tolerance=0.001)\n",
    "    geo_j = dav_geo.to_json()\n",
    "    geo_j = folium.GeoJson(data=geo_j,\n",
    "                           style_function=lambda x: {'fillColor': 'orange'})\n",
    "    geo_j.add_to(m)\n",
    "    \n",
    "m"
   ]
  },
  {
   "cell_type": "code",
   "execution_count": null,
   "id": "997c55c6",
   "metadata": {},
   "outputs": [],
   "source": []
  },
  {
   "cell_type": "code",
   "execution_count": null,
   "id": "21ab3de4",
   "metadata": {},
   "outputs": [],
   "source": []
  }
 ],
 "metadata": {
  "kernelspec": {
   "display_name": "Python 3 (ipykernel)",
   "language": "python",
   "name": "python3"
  },
  "language_info": {
   "codemirror_mode": {
    "name": "ipython",
    "version": 3
   },
   "file_extension": ".py",
   "mimetype": "text/x-python",
   "name": "python",
   "nbconvert_exporter": "python",
   "pygments_lexer": "ipython3",
   "version": "3.8.5"
  }
 },
 "nbformat": 4,
 "nbformat_minor": 5
}
