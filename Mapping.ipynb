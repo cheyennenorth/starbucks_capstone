{
 "cells": [
  {
   "cell_type": "code",
   "execution_count": null,
   "id": "88899218",
   "metadata": {},
   "outputs": [],
   "source": [
    "from shapely.geometry import Point\n",
    "import pandas as pd\n",
    "import geopandas as gpd\n",
    "import matplotlib.pyplot as plt\n",
    "import folium \n",
    "from folium.plugins import MarkerCluster\n",
    "from folium.plugins import FastMarkerCluster"
   ]
  },
  {
   "cell_type": "code",
   "execution_count": null,
   "id": "43828c18",
   "metadata": {},
   "outputs": [],
   "source": [
    "tiger_df = gpd.read_file('../data/tl_2021_47_tract.shp')\n",
    "tiger_df = tiger_df.to_crs(\"EPSG:4326\")"
   ]
  },
  {
   "cell_type": "code",
   "execution_count": null,
   "id": "b74d1c81",
   "metadata": {},
   "outputs": [],
   "source": [
    "tiger_df.head()"
   ]
  },
  {
   "cell_type": "code",
   "execution_count": null,
   "id": "7c689bc3",
   "metadata": {},
   "outputs": [],
   "source": [
    "davidson_loc = tiger_df.loc[(tiger_df.COUNTYFP == '037')]\n",
    "poverty = pd.read_csv('../data/census_pov.csv')"
   ]
  },
  {
   "cell_type": "code",
   "execution_count": null,
   "id": "b5f7e667",
   "metadata": {},
   "outputs": [],
   "source": [
    "print('davidson loc shape')\n",
    "print(davidson_loc.shape)\n",
    "print('===================')\n",
    "print('poverty shape')\n",
    "print(poverty.shape)\n"
   ]
  },
  {
   "cell_type": "code",
   "execution_count": null,
   "id": "53dcf64f",
   "metadata": {},
   "outputs": [],
   "source": [
    "davidson_loc.plot()"
   ]
  },
  {
   "cell_type": "code",
   "execution_count": null,
   "id": "cfba3bf9",
   "metadata": {},
   "outputs": [],
   "source": [
    "map_test = folium.Map(location= (36.174465,-86.767960), zoom_start= 12, control_scale=True)\n",
    "map_test"
   ]
  },
  {
   "cell_type": "code",
   "execution_count": null,
   "id": "62f06fd4",
   "metadata": {},
   "outputs": [],
   "source": [
    "#Bring in crime data\n",
    "crime = pd.read_csv('../data/police_incidents.csv')\n",
    "crime.head()"
   ]
  },
  {
   "cell_type": "code",
   "execution_count": null,
   "id": "05ba75db",
   "metadata": {},
   "outputs": [],
   "source": []
  }
 ],
 "metadata": {
  "kernelspec": {
   "display_name": "Python 3 (ipykernel)",
   "language": "python",
   "name": "python3"
  },
  "language_info": {
   "codemirror_mode": {
    "name": "ipython",
    "version": 3
   },
   "file_extension": ".py",
   "mimetype": "text/x-python",
   "name": "python",
   "nbconvert_exporter": "python",
   "pygments_lexer": "ipython3",
   "version": "3.9.13"
  }
 },
 "nbformat": 4,
 "nbformat_minor": 5
}
