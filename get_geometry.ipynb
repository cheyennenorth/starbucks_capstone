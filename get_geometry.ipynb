{
 "cells": [
  {
   "cell_type": "code",
   "execution_count": null,
   "id": "c051a6f9",
   "metadata": {},
   "outputs": [],
   "source": [
    "from geopy.geocoders import Nominatim\n",
    "from geopy.exc import GeocoderTimedOut\n",
    "import numpy as np\n",
    "import pandas as pd \n",
    "import requests"
   ]
  },
  {
   "cell_type": "code",
   "execution_count": null,
   "id": "b701faf2",
   "metadata": {
    "scrolled": false
   },
   "outputs": [],
   "source": [
    "starbucks = pd.read_csv('./data/starbucks_locs.csv')\n",
    "starbucks = starbucks.set_index('location')\n",
    "starbucks.head()\n",
    "starbucks = starbucks[[ 'address', 'address_new']]\n",
    "starbucks.head()"
   ]
  },
  {
   "cell_type": "code",
   "execution_count": null,
   "id": "ea68af34",
   "metadata": {},
   "outputs": [],
   "source": []
  },
  {
   "cell_type": "code",
   "execution_count": null,
   "id": "387af9e3",
   "metadata": {},
   "outputs": [],
   "source": [
    "for i, row in starbucks.itterrows():\n",
    "    "
   ]
  },
  {
   "cell_type": "code",
   "execution_count": null,
   "id": "f65e9b68",
   "metadata": {},
   "outputs": [],
   "source": [
    "y = ['170 4th Ave, Nashville, TN']\n",
    "t = ['315 4th Ave N, Nashville,TN', '424 Church Street, Suite 110, Nashville,TN', '170 4th Ave, Nashville,TN']\n",
    "\n",
    "geolocator = Nominatim(timeout=10, user_agent = \"myGeolocator\")\n",
    "\n",
    "for add in address_list:\n",
    "    location = geolocator.geocode(f'{add}')\n",
    "    print(add)"
   ]
  },
  {
   "cell_type": "code",
   "execution_count": null,
   "id": "26c3d562",
   "metadata": {},
   "outputs": [],
   "source": [
    "location "
   ]
  },
  {
   "cell_type": "code",
   "execution_count": null,
   "id": "0bc22530",
   "metadata": {},
   "outputs": [],
   "source": [
    "longitude = []\n",
    "latitude = []\n",
    "\n",
    "def findGeocode(address_new):\n",
    "    try:\n",
    "        geolocator = Nominatim(user_agent = 'your_app_name')\n",
    "        \n",
    "        return geolocator.geocode(address_new)\n",
    "    except GeocoderTimedOut:\n",
    "        return findGeocode(address_new)\n",
    "for i in (starbucks['address_new']):\n",
    "    if findGeocode(i) != None:\n",
    "        \n",
    "        loc = findGeocode(i)\n",
    "    \n",
    "    else:\n",
    "        latitude.append(np.nan)\n",
    "        longitude.append(np.nan)\n",
    "                "
   ]
  },
  {
   "cell_type": "code",
   "execution_count": null,
   "id": "59fbb2a2",
   "metadata": {},
   "outputs": [],
   "source": [
    "from geopy.exc import GeocoderTimedOut\n",
    "from geopy.geocoders import Nominatim\n",
    "\n",
    "# declare an empty list to store\n",
    "# latitude and longitude of values\n",
    "# of city column\n",
    "longitude = []\n",
    "latitude = []\n",
    "\n",
    "# function to find the coordinate\n",
    "# of a given city\n",
    "def findGeocode(address_new):\n",
    "\t\n",
    "\t# try and catch is used to overcome\n",
    "\t# the exception thrown by geolocator\n",
    "\t# using geocodertimedout\n",
    "\ttry:\n",
    "\t\t\n",
    "\t\t# Specify the user_agent as your\n",
    "\t\t# app name it should not be none\n",
    "\t\tgeolocator = Nominatim(user_agent=\"your_app_name\")\n",
    "\t\t\n",
    "\t\treturn geolocator.geocode(address_new)\n",
    "\t\n",
    "\texcept GeocoderTimedOut:\n",
    "\t\t\n",
    "\t\treturn findGeocode(address_new)\t\n",
    "\n",
    "# each value from city column\n",
    "# will be fetched and sent to\n",
    "# function find_geocode\n",
    "for i in (starbucks[\"address_new\"]):\n",
    "\t\n",
    "\tif findGeocode(i) != None:\n",
    "\t\t\n",
    "\t\tloc = findGeocode(i)\n",
    "\t\t\n",
    "\t\t# coordinates returned from\n",
    "\t\t# function is stored into\n",
    "\t\t# two separate list\n",
    "\t\tlatitude.append(loc.latitude)\n",
    "\t\tlongitude.append(loc.longitude)\n",
    "\t\n",
    "\t# if coordinate for a city not\n",
    "\t# found, insert \"NaN\" indicating\n",
    "\t# missing value\n",
    "\telse:\n",
    "\t\tlatitude.append(np.nan)\n",
    "\t\tlongitude.append(np.nan)\n"
   ]
  },
  {
   "cell_type": "code",
   "execution_count": null,
   "id": "4557b510",
   "metadata": {},
   "outputs": [],
   "source": [
    "starbucks['longitude'] = longitude\n",
    "starbucks['latitude'] = latitude\n",
    "starbucks"
   ]
  },
  {
   "cell_type": "code",
   "execution_count": null,
   "id": "2cf9ba88",
   "metadata": {},
   "outputs": [],
   "source": [
    "starbucks.to_csv('starbucks_almost.csv')"
   ]
  }
 ],
 "metadata": {
  "kernelspec": {
   "display_name": "Python 3 (ipykernel)",
   "language": "python",
   "name": "python3"
  },
  "language_info": {
   "codemirror_mode": {
    "name": "ipython",
    "version": 3
   },
   "file_extension": ".py",
   "mimetype": "text/x-python",
   "name": "python",
   "nbconvert_exporter": "python",
   "pygments_lexer": "ipython3",
   "version": "3.9.13"
  }
 },
 "nbformat": 4,
 "nbformat_minor": 5
}
