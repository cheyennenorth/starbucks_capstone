{
 "cells": [
  {
   "cell_type": "code",
   "execution_count": null,
   "id": "275c6a0c",
   "metadata": {},
   "outputs": [],
   "source": [
    "import pandas as pd \n",
    "import numpy as np\n",
    "import re\n",
    "import matplotlib.pyplot as plt\n",
    "%matplotlib inline\n",
    "pd.set_option('display.max_columns', None)"
   ]
  },
  {
   "cell_type": "code",
   "execution_count": null,
   "id": "351ec1d1",
   "metadata": {
    "scrolled": true
   },
   "outputs": [],
   "source": [
    "poverty = pd.read_csv('../data/census_pov.csv')\n",
    "poverty.shape"
   ]
  },
  {
   "cell_type": "code",
   "execution_count": null,
   "id": "25bb632e",
   "metadata": {},
   "outputs": [],
   "source": [
    "poverty['GEO_ID'] = poverty['GEO_ID'].str.split(',', expand = True)\n",
    "poverty.head()"
   ]
  },
  {
   "cell_type": "code",
   "execution_count": null,
   "id": "9753383e",
   "metadata": {},
   "outputs": [],
   "source": [
    "poverty.to_csv(r'C:\\Users\\16293\\Documents\\NSS\\Python\\Capstone\\poverty.csv')\n"
   ]
  }
 ],
 "metadata": {
  "kernelspec": {
   "display_name": "Python 3 (ipykernel)",
   "language": "python",
   "name": "python3"
  },
  "language_info": {
   "codemirror_mode": {
    "name": "ipython",
    "version": 3
   },
   "file_extension": ".py",
   "mimetype": "text/x-python",
   "name": "python",
   "nbconvert_exporter": "python",
   "pygments_lexer": "ipython3",
   "version": "3.9.13"
  }
 },
 "nbformat": 4,
 "nbformat_minor": 5
}
