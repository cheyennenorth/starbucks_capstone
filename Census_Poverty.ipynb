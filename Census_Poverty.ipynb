{
 "cells": [
  {
   "cell_type": "code",
   "execution_count": 1,
   "id": "275c6a0c",
   "metadata": {},
   "outputs": [],
   "source": [
    "import pandas as pd \n",
    "import numpy as np\n",
    "import re\n",
    "import matplotlib.pyplot as plt\n",
    "%matplotlib inline\n",
    "pd.set_option('display.max_columns', None)"
   ]
  },
  {
   "cell_type": "code",
   "execution_count": 2,
   "id": "351ec1d1",
   "metadata": {
    "scrolled": true
   },
   "outputs": [
    {
     "data": {
      "text/plain": [
       "(175, 3)"
      ]
     },
     "execution_count": 2,
     "metadata": {},
     "output_type": "execute_result"
    }
   ],
   "source": [
    "poverty = pd.read_csv('../data/census_pov.csv')\n",
    "poverty.shape"
   ]
  },
  {
   "cell_type": "code",
   "execution_count": 4,
   "id": "25bb632e",
   "metadata": {},
   "outputs": [
    {
     "data": {
      "text/html": [
       "<div>\n",
       "<style scoped>\n",
       "    .dataframe tbody tr th:only-of-type {\n",
       "        vertical-align: middle;\n",
       "    }\n",
       "\n",
       "    .dataframe tbody tr th {\n",
       "        vertical-align: top;\n",
       "    }\n",
       "\n",
       "    .dataframe thead th {\n",
       "        text-align: right;\n",
       "    }\n",
       "</style>\n",
       "<table border=\"1\" class=\"dataframe\">\n",
       "  <thead>\n",
       "    <tr style=\"text-align: right;\">\n",
       "      <th></th>\n",
       "      <th>GEO_ID</th>\n",
       "      <th>Census Tract</th>\n",
       "      <th>Total Population for whom poverty status os determined- Estimate</th>\n",
       "    </tr>\n",
       "  </thead>\n",
       "  <tbody>\n",
       "    <tr>\n",
       "      <th>0</th>\n",
       "      <td>1400000US47037010103</td>\n",
       "      <td>Census Tract 101.03, Davidson County, Tennessee</td>\n",
       "      <td>2514</td>\n",
       "    </tr>\n",
       "    <tr>\n",
       "      <th>1</th>\n",
       "      <td>1400000US47037010104</td>\n",
       "      <td>Census Tract 101.04, Davidson County, Tennessee</td>\n",
       "      <td>3064</td>\n",
       "    </tr>\n",
       "    <tr>\n",
       "      <th>2</th>\n",
       "      <td>1400000US47037010105</td>\n",
       "      <td>Census Tract 101.05, Davidson County, Tennessee</td>\n",
       "      <td>4895</td>\n",
       "    </tr>\n",
       "    <tr>\n",
       "      <th>3</th>\n",
       "      <td>1400000US47037010106</td>\n",
       "      <td>Census Tract 101.06, Davidson County, Tennessee</td>\n",
       "      <td>2885</td>\n",
       "    </tr>\n",
       "    <tr>\n",
       "      <th>4</th>\n",
       "      <td>1400000US47037010201</td>\n",
       "      <td>Census Tract 102.01, Davidson County, Tennessee</td>\n",
       "      <td>4563</td>\n",
       "    </tr>\n",
       "  </tbody>\n",
       "</table>\n",
       "</div>"
      ],
      "text/plain": [
       "                 GEO_ID                                     Census Tract  \\\n",
       "0  1400000US47037010103  Census Tract 101.03, Davidson County, Tennessee   \n",
       "1  1400000US47037010104  Census Tract 101.04, Davidson County, Tennessee   \n",
       "2  1400000US47037010105  Census Tract 101.05, Davidson County, Tennessee   \n",
       "3  1400000US47037010106  Census Tract 101.06, Davidson County, Tennessee   \n",
       "4  1400000US47037010201  Census Tract 102.01, Davidson County, Tennessee   \n",
       "\n",
       "   Total Population for whom poverty status os determined- Estimate  \n",
       "0                                               2514                 \n",
       "1                                               3064                 \n",
       "2                                               4895                 \n",
       "3                                               2885                 \n",
       "4                                               4563                 "
      ]
     },
     "execution_count": 4,
     "metadata": {},
     "output_type": "execute_result"
    }
   ],
   "source": [
    "poverty['GEO_ID'] = poverty['GEO_ID'].str.split(',', expand = True)\n",
    "poverty.head()"
   ]
  },
  {
   "cell_type": "code",
   "execution_count": null,
   "id": "9753383e",
   "metadata": {},
   "outputs": [],
   "source": [
    "poverty.to_csv(r'C:\\Users\\16293\\Documents\\NSS\\Python\\Capstone\\poverty.csv')\n"
   ]
  }
 ],
 "metadata": {
  "kernelspec": {
   "display_name": "Python 3 (ipykernel)",
   "language": "python",
   "name": "python3"
  },
  "language_info": {
   "codemirror_mode": {
    "name": "ipython",
    "version": 3
   },
   "file_extension": ".py",
   "mimetype": "text/x-python",
   "name": "python",
   "nbconvert_exporter": "python",
   "pygments_lexer": "ipython3",
   "version": "3.9.13"
  }
 },
 "nbformat": 4,
 "nbformat_minor": 5
}
